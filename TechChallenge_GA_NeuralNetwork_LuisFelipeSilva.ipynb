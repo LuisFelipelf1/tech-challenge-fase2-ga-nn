{
 "cells": [
  {
   "cell_type": "markdown",
   "id": "0b1b61a1",
   "metadata": {},
   "source": [
    "# Tech Challenge - Fase 2\n",{
 "cells": [
  {
   "cell_type": "markdown",
   "id": "c14fda01",
   "metadata": {},
   "source": [
    "# Tech Challenge - Fase 2\n",
    "\n",
    "**Otimização de Rede Neural com Algoritmo Genético + Visualização**\n",
    "\n",
    "Projeto individual - Luís Felipe Alves Silva (RM: 363734)"
   ]
  },
  {
   "cell_type": "code",
   "execution_count": null,
   "id": "14b59ef5",
   "metadata": {},
   "outputs": [],
   "source": [
    "import numpy as np\n",
    "import random\n",
    "import matplotlib.pyplot as plt\n",
    "from sklearn.datasets import load_iris\n",
    "from sklearn.model_selection import train_test_split\n",
    "from sklearn.preprocessing import StandardScaler\n",
    "from sklearn.metrics import accuracy_score\n",
    "import tensorflow as tf\n",
    "from tensorflow.keras.models import Sequential\n",
    "from tensorflow.keras.layers import Dense\n",
    "from tensorflow.keras.utils import to_categorical"
   ]
  },
  {
   "cell_type": "code",
   "execution_count": null,
   "id": "2a1beacc",
   "metadata": {},
   "outputs": [],
   "source": [
    "iris = load_iris()\n",
    "X = iris.data\n",
    "y = to_categorical(iris.target)\n",
    "X_train, X_test, y_train, y_test = train_test_split(X, y, test_size=0.2, random_state=42)\n",
    "scaler = StandardScaler()\n",
    "X_train = scaler.fit_transform(X_train)\n",
    "X_test = scaler.transform(X_test)"
   ]
  },
  {
   "cell_type": "code",
   "execution_count": null,
   "id": "cadfac18",
   "metadata": {},
   "outputs": [],
   "source": [
    "POPULATION_SIZE = 10\n",
    "GENERATIONS = 10\n",
    "MUTATION_RATE = 0.1\n",
    "ACT_FUNCS = ['relu', 'sigmoid', 'tanh']"
   ]
  },
  {
   "cell_type": "code",
   "execution_count": null,
   "id": "795e7379",
   "metadata": {},
   "outputs": [],
   "source": [
    "\n",
    "def decode_individual(ind):\n",
    "    neurons_1 = ind[0]\n",
    "    neurons_2 = ind[1]\n",
    "    act1 = ACT_FUNCS[ind[2]]\n",
    "    act2 = ACT_FUNCS[ind[3]]\n",
    "\n",
    "    model = Sequential()\n",
    "    model.add(Dense(neurons_1, activation=act1, input_shape=(4,)))\n",
    "    model.add(Dense(neurons_2, activation=act2))\n",
    "    model.add(Dense(3, activation='softmax'))\n",
    "\n",
    "    model.compile(optimizer='adam', loss='categorical_crossentropy', metrics=['accuracy'])\n",
    "    model.fit(X_train, y_train, epochs=30, verbose=0)\n",
    "    acc = model.evaluate(X_test, y_test, verbose=0)[1]\n",
    "    return acc\n"
   ]
  },
  {
   "cell_type": "code",
   "execution_count": null,
   "id": "e4bea4fc",
   "metadata": {},
   "outputs": [],
   "source": [
    "def create_individual():\n",
    "    return [random.randint(4, 64), random.randint(4, 64), random.randint(0, 2), random.randint(0, 2)]\n",
    "\n",
    "def mutate(ind):\n",
    "    i = random.randint(0, 3)\n",
    "    if i < 2:\n",
    "        ind[i] = random.randint(4, 64)\n",
    "    else:\n",
    "        ind[i] = random.randint(0, 2)\n",
    "\n",
    "def crossover(p1, p2):\n",
    "    cut = random.randint(1, 3)\n",
    "    return p1[:cut] + p2[cut:], p2[:cut] + p1[cut:]"
   ]
  },
  {
   "cell_type": "code",
   "execution_count": null,
   "id": "d38c25a2",
   "metadata": {},
   "outputs": [],
   "source": [
    "\n",
    "population = [create_individual() for _ in range(POPULATION_SIZE)]\n",
    "historico_melhores = []\n",
    "\n",
    "for generation in range(GENERATIONS):\n",
    "    fitness = [decode_individual(ind) for ind in population]\n",
    "    melhor = max(fitness)\n",
    "    historico_melhores.append(melhor)\n",
    "    print(f'Geração {generation + 1} - Melhor acurácia: {melhor:.4f}')\n",
    "\n",
    "    selected = [population[i] for i in np.argsort(fitness)[-POPULATION_SIZE//2:]]\n",
    "    children = []\n",
    "    while len(children) < POPULATION_SIZE:\n",
    "        p1, p2 = random.sample(selected, 2)\n",
    "        c1, c2 = crossover(p1, p2)\n",
    "        if random.random() < MUTATION_RATE:\n",
    "            mutate(c1)\n",
    "        if random.random() < MUTATION_RATE:\n",
    "            mutate(c2)\n",
    "        children.extend([c1, c2])\n",
    "    population = children[:POPULATION_SIZE]\n"
   ]
  },
  {
   "cell_type": "code",
   "execution_count": null,
   "id": "6717307a",
   "metadata": {},
   "outputs": [],
   "source": [
    "plt.plot(historico_melhores, marker='o')\n",
    "plt.title('Evolução da Acurácia')\n",
    "plt.xlabel('Geração')\n",
    "plt.ylabel('Acurácia')\n",
    "plt.grid(True)\n",
    "plt.show()"
   ]
  },
  {
   "cell_type": "markdown",
   "id": "9814b98d",
   "metadata": {},
   "source": [
    "\n",
    "## 🧠 Conclusão\n",
    "\n",
    "O Algoritmo Genético se mostrou eficiente para encontrar rapidamente uma rede neural ideal para o problema do dataset Iris.  \n",
    "A acurácia de 100% foi atingida a partir da segunda geração e mantida até o final, mostrando convergência precoce.  \n",
    "Esse tipo de abordagem é simples, automatizada e pode ser adaptada para problemas mais complexos no futuro.\n"
   ]
  }
 ],
 "metadata": {},
 "nbformat": 4,
 "nbformat_minor": 5
}

    "\n",
    "**Otimização de Rede Neural com Algoritmo Genético + Visualização**\n",
    "\n",
    "Projeto individual - Luís Felipe Alves Silva (RM: 363734)"
   ]
  },
  {
   "cell_type": "markdown",
   "id": "f184f5b6",
   "metadata": {},
   "source": [
    "## 1. Importações"
   ]
  },
  {
   "cell_type": "code",
   "execution_count": null,
   "id": "c42aadac",
   "metadata": {},
   "outputs": [],
   "source": [
    "import numpy as np\n",
    "import random\n",
    "import matplotlib.pyplot as plt\n",
    "from sklearn.datasets import load_iris\n",
    "from sklearn.model_selection import train_test_split\n",
    "from sklearn.preprocessing import StandardScaler\n",
    "from sklearn.metrics import accuracy_score\n",
    "import tensorflow as tf\n",
    "from tensorflow.keras.models import Sequential\n",
    "from tensorflow.keras.layers import Dense\n",
    "from tensorflow.keras.utils import to_categorical"
   ]
  },
  {
   "cell_type": "markdown",
   "id": "51affdff",
   "metadata": {},
   "source": [
    "## 2. Dados e Normalização"
   ]
  },
  {
   "cell_type": "code",
   "execution_count": null,
   "id": "d0851613",
   "metadata": {},
   "outputs": [],
   "source": [
    "iris = load_iris()\n",
    "X = iris.data\n",
    "y = to_categorical(iris.target)\n",
    "X_train, X_test, y_train, y_test = train_test_split(X, y, test_size=0.2, random_state=42)\n",
    "scaler = StandardScaler()\n",
    "X_train = scaler.fit_transform(X_train)\n",
    "X_test = scaler.transform(X_test)"
   ]
  },
  {
   "cell_type": "markdown",
   "id": "04716927",
   "metadata": {},
   "source": [
    "## 3. Configurações do GA"
   ]
  },
  {
   "cell_type": "code",
   "execution_count": null,
   "id": "cf69d781",
   "metadata": {},
   "outputs": [],
   "source": [
    "POPULATION_SIZE = 10\n",
    "GENERATIONS = 10\n",
    "MUTATION_RATE = 0.1\n",
    "ACT_FUNCS = ['relu', 'sigmoid', 'tanh']"
   ]
  },
  {
   "cell_type": "markdown",
   "id": "f2215f43",
   "metadata": {},
   "source": [
    "## 4. Funções principais do GA"
   ]
  },
  {
   "cell_type": "code",
   "execution_count": null,
   "id": "7a5bccb5",
   "metadata": {},
   "outputs": [],
   "source": [
    "def decode_individual(ind):\n",
    "    neurons_1 = ind[0]\n",
    "    neurons_2 = ind[1]\n",
    "    act1 = ACT_FUNCS[ind[2]]\n",
    "    act2 = ACT_FUNCS[ind[3]]\n",
    "\n",
    "    model = Sequential()\n",
    "    model.add(Dense(neurons_1, activation=act1, input_shape=(4,)))\n",
    "    model.add(Dense(neurons_2, activation=act2))\n",

    "        c1, c2 = crossover(p1, p2)\n",
    "        if random.random() < MUTATION_RATE:\n",
